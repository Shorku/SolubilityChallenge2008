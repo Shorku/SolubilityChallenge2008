{
 "cells": [
  {
   "metadata": {
    "collapsed": true,
    "ExecuteTime": {
     "end_time": "2025-01-16T13:38:39.435017Z",
     "start_time": "2025-01-16T13:38:39.430019Z"
    }
   },
   "cell_type": "code",
   "source": [
    "###############################################################################\n",
    "# This notebook shows application of the RhNet2 model to aqueous solubility\n",
    "# prediction.\n",
    "#\n",
    "# Presented here, RhNet2 models learned to predict intrinsic aqueous solubility\n",
    "# from 1-el density matrices (originating from DFT calculations) on a set of\n",
    "# 94 drug-like molecules as supposed by the Solubility Challenge (2008) terms.\n",
    "#\n",
    "# The details of the model architecture are described in the corresponding paper:\n",
    "# https://doi.org/10.26434/chemrxiv-2024-k2k3l\n",
    "#\n",
    "# Implementation:\n",
    "# https://github.com/Shorku/rhnet2\n",
    "#\n",
    "# Solubility Challenge:\n",
    "# https://10.1021/ci800058v\n",
    "# https://10.1021/ci800436c\n",
    "###############################################################################"
   ],
   "id": "initial_id",
   "outputs": [],
   "execution_count": 2
  },
  {
   "metadata": {},
   "cell_type": "code",
   "outputs": [],
   "execution_count": null,
   "source": [
    "import os\n",
    "import json\n",
    "import requests\n",
    "\n",
    "import tensorflow as tf\n",
    "\n",
    "from data_utils import graph_from_orca\n",
    "from data_utils import read_schema\n",
    "from data_utils import GraphToTensorsLayer\n",
    "from data_utils import graph2rest\n",
    "\n",
    "###############################################################################\n",
    "# path info\n",
    "###############################################################################\n",
    "orca_out_path = 'data_example/dft'\n",
    "tfrecords_path = 'data_example/tfrecords'\n",
    "overlap_threshold = 0.035\n",
    "schema_path = 'rhnet2.pbtxt'\n",
    "models_path = 'models/LOO_G8D1W1Hd0Hw0_GKANTrueWKANFalseHKANFalseL2H0.08L2W0.08_batch8_lr0.0001'"
   ],
   "id": "57f9139119016d1d"
  },
  {
   "metadata": {
    "ExecuteTime": {
     "end_time": "2025-01-16T13:38:47.640977Z",
     "start_time": "2025-01-16T13:38:47.405843Z"
    }
   },
   "cell_type": "code",
   "source": [
    "###############################################################################\n",
    "# As an example, we will now predict water solubility of, say, Benzocaine\n",
    "# (test compound, not seen by the models) from its electronic structure.\n",
    "# The results of DFT calculation are available in the data_example/dft folder.\n",
    "# First, we will convert the output of quantum chemical package (ORCA) into\n",
    "# a TF-GNN graph:\n",
    "\n",
    "benzocaine_orca_out = os.path.join(orca_out_path, \"Benzocaine.zip\")\n",
    "benzocaine_graph = graph_from_orca(\n",
    "    out_file=benzocaine_orca_out,\n",
    "    overlap_thresh=overlap_threshold,\n",
    "    target_features={f\"dummy{i}\": 0.0 for i in range(6)})[0]"
   ],
   "id": "cf3f30f64fe0c64b",
   "outputs": [],
   "execution_count": 3
  },
  {
   "metadata": {},
   "cell_type": "code",
   "outputs": [],
   "execution_count": null,
   "source": [
    "###############################################################################\n",
    "# Note, the resulting graph can be saved for example in .tfrecord format:\n",
    "#\n",
    "# record_options = tf.io.TFRecordOptions(compression_type='GZIP')\n",
    "# with tf.io.TFRecordWriter(os.path.join(tfrecords_path, \"Benzocaine.tfrecord\"),\n",
    "#                           options=record_options) as writer:\n",
    "#         example = tfgnn.write_example(benzocaine_graph)\n",
    "#         writer.write(example.SerializeToString())\n",
    "#\n",
    "# And later restored:\n",
    "#\n",
    "# from data_utils import get_decode_fn\n",
    "#\n",
    "# graph_schema = read_schema(schema_path)\n",
    "# decode_fn = get_decode_fn(graph_spec=graph_schema)\n",
    "# benzocaine_data = tf.data.TFRecordDataset(\n",
    "#     [os.path.join(tfrecords_path, \"Benzocaine.tfrecord\")],\n",
    "#     compression_type=\"GZIP\").map(decode_fn)\n",
    "#\n",
    "# The data_example/tfrecords folder contains pre-built molecular graphs\n",
    "# for all compounds from the Solubility Challenge (2008) test set"
   ],
   "id": "414859d45ec9327"
  },
  {
   "metadata": {
    "ExecuteTime": {
     "end_time": "2025-01-16T13:39:18.596310Z",
     "start_time": "2025-01-16T13:39:18.561973Z"
    }
   },
   "cell_type": "code",
   "source": [
    "###############################################################################\n",
    "# Now lets convert the benzocaine graph into a format, compatible with saved\n",
    "# Tensorflow models i.e a bunch of Tensors.\n",
    "#\n",
    "# As a side note, while the saved TF models (serving especially) generally\n",
    "# prefer the most basic data structures as inputs, it might seem redundant\n",
    "# to convert quantum chemical data to graphs first. Indeed, all the input\n",
    "# tensors such as the ones containing nodes embeddings or adjacency matrices\n",
    "# can be obtained directly. However, I still prefer to use graphs as an\n",
    "# intermediate step to guarantee that the order of data is preserved.\n",
    "\n",
    "schema = read_schema(schema_path=schema_path)\n",
    "mapping_layer = GraphToTensorsLayer(graph_schema=schema)\n",
    "\n",
    "benzocaine_graph_mapped = mapping_layer(graph=benzocaine_graph)"
   ],
   "id": "ed049734cafe9976",
   "outputs": [],
   "execution_count": 4
  },
  {
   "metadata": {
    "ExecuteTime": {
     "end_time": "2025-01-16T12:24:00.200142Z",
     "start_time": "2025-01-16T12:23:56.937152Z"
    }
   },
   "cell_type": "code",
   "source": [
    "###############################################################################\n",
    "# Finally, we can predict the solubility of benzocaine. Let's pick arbitrary\n",
    "# model from models folder. The folder contains 94 models saved after\n",
    "# leave-one-out validation. The subfolder names indicate CAS numbers of\n",
    "# training compounds excluded from the training set in a particular fitting run.\n",
    "\n",
    "model_path = os.path.join(models_path, \"113-59-7/1\")\n",
    "model = tf.saved_model.load(model_path)\n",
    "infer = model.signatures['serving_default']\n",
    "benzocaine_prediction = infer(**benzocaine_graph_mapped)\n",
    "benzocaine_sol = benzocaine_prediction['target'][0].numpy()[0]\n",
    "\n",
    "print(f'Benzocaine intrinsic aqueous solubility (log \\u03BCM):\\n'\n",
    "      f'Predicted: {benzocaine_sol:.2f}, '\n",
    "      f'Reported: 3.81, '\n",
    "      f'Error: {abs(benzocaine_sol - 3.81):.2f}')"
   ],
   "id": "af14ea93e6e79dd3",
   "outputs": [
    {
     "name": "stdout",
     "output_type": "stream",
     "text": [
      "Benzocaine intrinsic aqueous solubility (log μM):\n",
      "Predicted: 3.89, Reported: 3.81, Error: 0.08\n"
     ]
    }
   ],
   "execution_count": 56
  },
  {
   "metadata": {
    "ExecuteTime": {
     "end_time": "2025-01-16T13:43:32.158049Z",
     "start_time": "2025-01-16T13:43:31.777735Z"
    }
   },
   "cell_type": "code",
   "source": [
    "###############################################################################\n",
    "# The predicted solubility deviates from the reported by only 20% in real values.\n",
    "# But we can still improve it by averaging predictions of an ensemble of models.\n",
    "# It will also help to reduce the impact of models instability, which can show\n",
    "# off in deep GNNs.\n",
    "# Let's serve all the models using Tensorflow Model Server. Pull docker image\n",
    "# and run it.\n",
    "#\n",
    "# docker pull tensorflow/serving\n",
    "# docker run -p 8501:8501 --name=rhnet2 --mount type=bind,source=$(pwd)/models,target=/models --mount type=bind,source=$(pwd)/models.config,target=/models.config -t tensorflow/serving --model_config_file=/models.config\n",
    "#\n",
    "# Now that the service is up, we need to convert data into a json-compatible format:\n",
    "\n",
    "benzocaine_graph_rest = graph2rest(graph=benzocaine_graph,\n",
    "                                   mapping_layer=mapping_layer)\n",
    "\n",
    "# Define a function to make requests:\n",
    "def predict_request(graph_json, model_name):\n",
    "    headers = {\"content-type\": \"application/json\"}\n",
    "    data = {\"signature_name\": \"serving_default\",\n",
    "            \"inputs\": graph_json}\n",
    "    json_response = requests.post(f'http://localhost:8501/v1/models/{model_name}:predict',\n",
    "                                  json=data, headers=headers)\n",
    "    return {'S0': json.loads(json_response.text)['outputs']['target'][0][0],\n",
    "            'melt': json.loads(json_response.text)['outputs']['melt'][0][0],\n",
    "            'logK': json.loads(json_response.text)['outputs']['logk'][0][0]}\n",
    "\n",
    "# And test the service:\n",
    "benzocaine_sol = predict_request(benzocaine_graph_rest, 'model_0')['S0']\n",
    "\n",
    "print(f'Benzocaine intrinsic aqueous solubility (log \\u03BCM):\\n'\n",
    "      f'Predicted: {benzocaine_sol:.2f}, '\n",
    "      f'Reported: 3.81, '\n",
    "      f'Error: {abs(benzocaine_sol - 3.81):.2f}')"
   ],
   "id": "e07a7de829fee4c1",
   "outputs": [
    {
     "name": "stdout",
     "output_type": "stream",
     "text": [
      "Benzocaine intrinsic aqueous solubility (log μM):\n",
      "Predicted: 3.89, Reported: 3.81, Error: 0.08\n"
     ]
    }
   ],
   "execution_count": 7
  },
  {
   "metadata": {
    "ExecuteTime": {
     "end_time": "2025-01-16T13:48:53.235646Z",
     "start_time": "2025-01-16T13:45:37.404697Z"
    }
   },
   "cell_type": "code",
   "source": [
    "###############################################################################\n",
    "# Finally, make ensemble prediction:\n",
    "\n",
    "predictions = [predict_request(benzocaine_graph_rest, f'model_{i}') for i in range(94)]\n",
    "benzocaine_sol = sum([prediction['S0'] for prediction in predictions]) / 94\n",
    "\n",
    "print(f'Benzocaine intrinsic aqueous solubility (log \\u03BCM):\\n'\n",
    "      f'Predicted (ensemble): {benzocaine_sol:.2f}, '\n",
    "      f'Reported: 3.81, '\n",
    "      f'Error: {abs(benzocaine_sol - 3.81):.2f}')"
   ],
   "id": "364c10396b662639",
   "outputs": [
    {
     "name": "stdout",
     "output_type": "stream",
     "text": [
      "Benzocaine intrinsic aqueous solubility (log μM):\n",
      "Predicted (ensemble): 3.83, Reported: 3.81, Error: 0.02\n"
     ]
    }
   ],
   "execution_count": 8
  },
  {
   "metadata": {
    "ExecuteTime": {
     "end_time": "2025-01-16T13:53:21.643521Z",
     "start_time": "2025-01-16T13:53:21.638916Z"
    }
   },
   "cell_type": "code",
   "source": [
    "###############################################################################\n",
    "# Simultaneously with solubility, properties like melting point and Kow are\n",
    "# predicted. These were introduced primarily for regularization purpose.\n",
    "# The models were not optimized to perform well for anything but solubility.\n",
    "# However, let's look at the predicted values:\n",
    "\n",
    "benzocaine_melt = sum([prediction['melt'] for prediction in predictions]) / 94 * 100\n",
    "benzocaine_kow = sum([prediction['logK'] for prediction in predictions]) / 94\n",
    "print(f'Benzocaine melting point (\\u2070C):\\n'\n",
    "      f'Predicted: {benzocaine_melt:.1f}, '\n",
    "      f'Reported: 89.9, '\n",
    "      f'Error: {abs(benzocaine_melt - 89.9):.1f}\\n\\n'\n",
    "      f'Benzocaine logK_ow:\\n'\n",
    "      f'Predicted: {benzocaine_kow:.2f}, '\n",
    "      f'Reported: 1.86, '\n",
    "      f'Error: {abs(benzocaine_kow - 1.86):.2f}')"
   ],
   "id": "b991b326d056bd58",
   "outputs": [
    {
     "name": "stdout",
     "output_type": "stream",
     "text": [
      "Benzocaine melting point (⁰C):\n",
      "Predicted: 132.1, Reported: 89.9, Error: 42.2\n",
      "\n",
      "Benzocaine logK_ow:\n",
      "Predicted: 2.00, Reported: 1.86, Error: 0.14\n"
     ]
    }
   ],
   "execution_count": 10
  },
  {
   "metadata": {
    "ExecuteTime": {
     "end_time": "2025-01-16T08:09:18.808085Z",
     "start_time": "2025-01-16T08:09:18.799523Z"
    }
   },
   "cell_type": "code",
   "source": [
    "###############################################################################\n",
    "# Available pre-calculated compounds (SC1 test set)\n",
    "\n",
    "test_compounds = [\n",
    "  \"Acebutolol\",          \"Amoxicillin\",       \"Bendroflumethiazide\", \"Benzocaine\",\n",
    "  \"Benzthiazide\",        \"Clozapine\",         \"Dibucaine\",           \"Diethylstilbestrol\",\n",
    "  \"Diflunisal\",          \"Dipyridamole\",      \"Folic_acid\",          \"Furosemide\",\n",
    "  \"Hydrochlorothiazide\", \"Imipramine\",        \"Indomethacin\",        \"Ketoprofen\",\n",
    "  \"Lidocaine\",           \"Meclofenamic_acid\", \"Naphthoic_acid\",      \"Probenecid\",\n",
    "  \"Pyrimethamine\",       \"Salicylic_acid\",    \"Sulfamerazine\",       \"Sulfamethizole\",\n",
    "  \"Terfenadine\",         \"Thiabendazole\",     \"Tolbutamide\",         \"Trazodone\"]"
   ],
   "id": "35358ddfec62fef",
   "outputs": [],
   "execution_count": 18
  }
 ],
 "metadata": {
  "kernelspec": {
   "display_name": "Python 3",
   "language": "python",
   "name": "python3"
  },
  "language_info": {
   "codemirror_mode": {
    "name": "ipython",
    "version": 2
   },
   "file_extension": ".py",
   "mimetype": "text/x-python",
   "name": "python",
   "nbconvert_exporter": "python",
   "pygments_lexer": "ipython2",
   "version": "2.7.6"
  }
 },
 "nbformat": 4,
 "nbformat_minor": 5
}
